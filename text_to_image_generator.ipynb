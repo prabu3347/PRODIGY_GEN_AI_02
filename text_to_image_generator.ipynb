{
  "nbformat": 4,
  "nbformat_minor": 0,
  "metadata": {
    "colab": {
      "provenance": []
    },
    "kernelspec": {
      "name": "python3",
      "display_name": "Python 3"
    },
    "language_info": {
      "name": "python"
    }
  },
  "cells": [
    {
      "cell_type": "code",
      "source": [
        "# Install the necessary libraries (uncomment if running for the first time)\n",
        "# !pip install diffusers transformers accelerate safetensors torch\n",
        "\n",
        "from diffusers import StableDiffusionPipeline\n",
        "import torch\n",
        "\n",
        "# Check if GPU is available\n",
        "device = \"cuda\" if torch.cuda.is_available() else \"cpu\"\n",
        "\n",
        "# Load the Stable Diffusion model from Hugging Face\n",
        "pipe = StableDiffusionPipeline.from_pretrained(\n",
        "    \"runwayml/stable-diffusion-v1-5\",\n",
        "    torch_dtype=torch.float16 if device == \"cuda\" else torch.float32,\n",
        "    use_safetensors=True\n",
        ").to(device)\n",
        "\n",
        "# Define your text prompt\n",
        "prompt = \"A beautiful futuristic city with flying cars at sunset\"\n",
        "\n",
        "# Generate the image\n",
        "image = pipe(prompt).images[0]\n",
        "\n",
        "# Display the image\n",
        "image.show()\n",
        "\n",
        "# Save the image\n",
        "image.save(\"generated_image.png\")\n",
        "print(\"Image saved as 'generated_image.png'\")"
      ],
      "metadata": {
        "id": "LNQpCPes2jLk"
      },
      "execution_count": null,
      "outputs": []
    }
  ]
}